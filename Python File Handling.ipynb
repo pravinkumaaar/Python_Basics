{
 "cells": [
  {
   "cell_type": "code",
   "execution_count": 3,
   "metadata": {},
   "outputs": [],
   "source": [
    "#The key function for working with files in Python is the open() function.\n",
    "#The open() function takes two parameters; filename, and mode.\n",
    "\n",
    "#There are four different methods (modes) for opening a file:\n",
    "#\"r\" - Read - Default value. Opens a file for reading, error if the file does not exist\n",
    "#\"a\" - Append - Opens a file for appending, creates the file if it does not exist\n",
    "#\"w\" - Write - Opens a file for writing, creates the file if it does not exist\n",
    "#\"x\" - Create - Creates the specified file, returns an error if the file exists\n",
    "\n",
    "#In addition you can specify if the file should be handled as binary or text mode\n",
    "#\"t\" - Text - Default value. Text mode\n",
    "#\"b\" - Binary - Binary mode (e.g. images)\n"
   ]
  },
  {
   "cell_type": "code",
   "execution_count": 6,
   "metadata": {},
   "outputs": [],
   "source": [
    "#Creating a file in Python\n",
    "\n",
    "f = open(\"demofile.txt\",\"w+\")\n",
    "\n",
    "#open(\"file_name\",mode)\n",
    "#w for write here and + for creating a new file if it already does not exist"
   ]
  },
  {
   "cell_type": "code",
   "execution_count": 7,
   "metadata": {},
   "outputs": [],
   "source": [
    "#Opening a file\n",
    "\n",
    "f = open(\"demofile.txt\")"
   ]
  },
  {
   "cell_type": "code",
   "execution_count": 9,
   "metadata": {},
   "outputs": [],
   "source": [
    "#The above is same as this \n",
    "\n",
    "f = open(\"demofile.txt\", \"rt\")\n",
    "\n",
    "#Because \"r\" for read, and \"t\" for text are the default values, we do not need to specify them."
   ]
  },
  {
   "cell_type": "code",
   "execution_count": 10,
   "metadata": {},
   "outputs": [],
   "source": [
    "#Asume we have the following file, located in the same folder as Python:\n",
    "\n",
    "#demofile.txt\n",
    "\n",
    "#Hello! Welcome to demofile.txt\n",
    "#This file is for testing purposes.\n",
    "#Good Luck!"
   ]
  },
  {
   "cell_type": "code",
   "execution_count": 13,
   "metadata": {},
   "outputs": [
    {
     "name": "stdout",
     "output_type": "stream",
     "text": [
      "Hello! Welcome to demofile.txt\n",
      "This file is for testing purposes.\n",
      "Good Luck!\n",
      "\n"
     ]
    }
   ],
   "source": [
    "#Reading a file\n",
    "\n",
    "#opening th file\n",
    "f = open(\"demofile.txt\", \"r\")\n",
    "\n",
    "#performs the read operation\n",
    "print(f.read())\n",
    "\n",
    "#by default the read() method returns the whole text "
   ]
  },
  {
   "cell_type": "code",
   "execution_count": 16,
   "metadata": {},
   "outputs": [
    {
     "name": "stdout",
     "output_type": "stream",
     "text": [
      "Hello\n"
     ]
    }
   ],
   "source": [
    "# you can specify how many characters you want to return from the file  \n",
    "\n",
    "f = open(\"demofile.txt\", \"r\")\n",
    "\n",
    "#returns only the number of characters specified inside the brackets()\n",
    "print(f.read(5))"
   ]
  },
  {
   "cell_type": "code",
   "execution_count": 21,
   "metadata": {},
   "outputs": [
    {
     "name": "stdout",
     "output_type": "stream",
     "text": [
      "Hello! Welcome to demofile.txt\n",
      "\n"
     ]
    }
   ],
   "source": [
    "#Returning just one line using readline() function\n",
    "\n",
    "f = open(\"demofile.txt\", \"r\")\n",
    "\n",
    "#reading just one line\n",
    "print(f.readline())"
   ]
  },
  {
   "cell_type": "code",
   "execution_count": 23,
   "metadata": {},
   "outputs": [
    {
     "name": "stdout",
     "output_type": "stream",
     "text": [
      "Hello! Welcome to demofile.txt\n",
      "\n",
      "This file is for testing purposes.\n",
      "\n"
     ]
    }
   ],
   "source": [
    "#Purpose : Understanding where the pointer is after a readline() function\n",
    "#Reading two lines using readline() functions, returns back the first two lines\n",
    "\n",
    "f = open(\"demofile.txt\", \"r\")\n",
    "\n",
    "#repeating the readline() function doesn't return the same line back\n",
    "print(f.readline())\n",
    "print(f.readline())"
   ]
  },
  {
   "cell_type": "code",
   "execution_count": 27,
   "metadata": {},
   "outputs": [
    {
     "name": "stdout",
     "output_type": "stream",
     "text": [
      "Hello! Welcome to demofile.txt\n",
      "\n",
      "\n",
      "\n",
      "This file is for testing purposes.\n",
      "\n",
      "\n",
      "\n",
      "Good Luck!\n",
      "\n",
      "\n",
      "\n"
     ]
    }
   ],
   "source": [
    "#By looping through the lines of the file, you can read the whole file, line by line:\n",
    "\n",
    "f = open(\"demofile.txt\", \"r\")\n",
    "\n",
    "for i in f:\n",
    "    print(i)\n",
    "    print(\"\\n\")\n",
    "#this method returns the file line by line, not character by character"
   ]
  },
  {
   "cell_type": "code",
   "execution_count": 28,
   "metadata": {},
   "outputs": [],
   "source": [
    "#To write to an existing file, you must add a parameter to the open() function:\n",
    "\n",
    "#\"a\" - Append - will append to the end of the file\n",
    "#\"w\" - Write - will overwrite any existing content"
   ]
  },
  {
   "cell_type": "code",
   "execution_count": 39,
   "metadata": {},
   "outputs": [
    {
     "data": {
      "text/plain": [
       "31"
      ]
     },
     "execution_count": 39,
     "metadata": {},
     "output_type": "execute_result"
    }
   ],
   "source": [
    "#Writing into a file:\n",
    "\n",
    "#opening a file in append mode\n",
    "f = open(\"demofile.txt\", \"a\")\n",
    "#\"a+\" will append text on the same line \n",
    "#\"a\" appends data from the next line\n",
    "\n",
    "#writing into a file\n",
    "f.write('Now the file has one more line!')\n",
    "\n",
    "#'\\t' for retaining the content"
   ]
  },
  {
   "cell_type": "code",
   "execution_count": 42,
   "metadata": {},
   "outputs": [
    {
     "data": {
      "text/plain": [
       "34"
      ]
     },
     "execution_count": 42,
     "metadata": {},
     "output_type": "execute_result"
    }
   ],
   "source": [
    "#opening a file in write mode\n",
    "f = open(\"demofile.txt\", \"w\")\n",
    "f.write(\"Woops! I have deleted the content!\")\n",
    "\n",
    "#\"w\" will overwrite the entire file"
   ]
  },
  {
   "cell_type": "code",
   "execution_count": 43,
   "metadata": {},
   "outputs": [],
   "source": [
    "#To create a new file in Python, use the open() method, with one of the following parameters:\n",
    "\n",
    "#\"x\" - Create - will create a file, returns an error if the file exist\n",
    "#\"a\" - Append - will create a file if the specified file does not exist\n",
    "#\"w\" - Write - will create a file if the specified file does not exist"
   ]
  },
  {
   "cell_type": "code",
   "execution_count": 50,
   "metadata": {},
   "outputs": [],
   "source": [
    "#Creating a file\n",
    "\n",
    "f = open(\"myfile.txt\", \"x\")"
   ]
  },
  {
   "cell_type": "code",
   "execution_count": 51,
   "metadata": {},
   "outputs": [],
   "source": [
    "#Create a new file if it does not exist\n",
    "\n",
    "f = open(\"myfile.txt\", \"w\")"
   ]
  },
  {
   "cell_type": "code",
   "execution_count": 52,
   "metadata": {},
   "outputs": [],
   "source": [
    "#Deleting a file:\n",
    "\n",
    "#To delete a file, you must import the OS module and use its os.remove() function\n",
    "\n",
    "#importing the OS module\n",
    "import os\n",
    "\n",
    "#removing the file\n",
    "os.remove(\"myfile.txt\")"
   ]
  },
  {
   "cell_type": "code",
   "execution_count": 55,
   "metadata": {},
   "outputs": [
    {
     "name": "stdout",
     "output_type": "stream",
     "text": [
      "The file does not exist\n"
     ]
    }
   ],
   "source": [
    "#Checking if the file exists \n",
    "\n",
    "import os\n",
    "\n",
    "#condition for checking if it exists\n",
    "if os.path.exists(\"myfile.txt\"):\n",
    "    print(\"The file exists\")\n",
    "else:\n",
    "    print(\"The file does not exist\")"
   ]
  },
  {
   "cell_type": "code",
   "execution_count": 56,
   "metadata": {},
   "outputs": [],
   "source": [
    "#Deleting an entire folder using os.rmdir() function\n",
    "\n",
    "import os\n",
    "\n",
    "#deleting the folder\n",
    "os.rmdir(\"myfolder\")\n",
    "\n",
    "#can only remove empty folders"
   ]
  },
  {
   "cell_type": "code",
   "execution_count": 57,
   "metadata": {},
   "outputs": [],
   "source": [
    "#More on file reading and writing in Python"
   ]
  },
  {
   "cell_type": "code",
   "execution_count": 64,
   "metadata": {},
   "outputs": [],
   "source": [
    "#Creating a file\n",
    "\n",
    "f = open(\"pravin99.txt\", \"w+\")\n",
    "\n",
    "#We declared the variable f to open a file named pravin99.txt \n",
    "#Open takes 2 arguments, the file that we want to open and a string that represents the kinds of permission or operation we want to do on the file\n",
    "#Here we used \"w\" letter in our argument, which indicates write and the plus sign that means it will create a file if it does not exist in library\n",
    "#The available option beside \"w\" are \"r\" for read and \"a\" for append and plus sign means if it is not there then create it"
   ]
  },
  {
   "cell_type": "code",
   "execution_count": 65,
   "metadata": {},
   "outputs": [],
   "source": [
    "#Writing into the file:\n",
    "\n",
    "for i in range(10):\n",
    "    f.write(\"This is line %d\\r\\n\" % (i+1))\n",
    "    \n",
    "#We have a for loop that runs over a range of 10 numbers\n",
    "#Using the write function to enter data into the file\n",
    "#The output we want to iterate in the file is \"this is line number\", which we declare with write function and then percent d (displays integer)\n",
    "#So basically we are putting in the line number that we are writing, then putting it in a carriage return and a new line character"
   ]
  },
  {
   "cell_type": "code",
   "execution_count": 67,
   "metadata": {},
   "outputs": [],
   "source": [
    "#Closing the file:\n",
    "\n",
    "f.close()\n",
    "\n",
    "#This will close the instance of the file pravin99.txt stored"
   ]
  },
  {
   "cell_type": "code",
   "execution_count": 68,
   "metadata": {},
   "outputs": [],
   "source": [
    "#Opening a file in append mode:\n",
    "\n",
    "f = open(\"pravin99.txt\", \"a+\")\n",
    "\n",
    "#Once again if you could see a plus sign in the code, it indicates that it will create a new file if it does not exist\n",
    "#But in our case we already have the file, so we are not required to create a new file"
   ]
  },
  {
   "cell_type": "code",
   "execution_count": 70,
   "metadata": {},
   "outputs": [],
   "source": [
    "#Appening in an already existing file\n",
    "\n",
    "for i in range(2):\n",
    "    f.write(\"Appended line %d\\r\\n\" % (i+1))\n",
    "    \n",
    "#This will write data into the file in append mode."
   ]
  },
  {
   "cell_type": "code",
   "execution_count": 72,
   "metadata": {},
   "outputs": [],
   "source": [
    "f.close()\n",
    "\n",
    "#Closing the file for the changes(append) to be reflected"
   ]
  },
  {
   "cell_type": "code",
   "execution_count": 74,
   "metadata": {},
   "outputs": [],
   "source": [
    "#Reading from a file\n",
    "\n",
    "#opening the file in read mode\n",
    "f = open(\"pravin99.txt\", \"r\")"
   ]
  },
  {
   "cell_type": "code",
   "execution_count": 77,
   "metadata": {},
   "outputs": [
    {
     "name": "stdout",
     "output_type": "stream",
     "text": [
      "File open in read mode\n"
     ]
    }
   ],
   "source": [
    "#We use the mode function in the code to check that the file is in open mode. If yes, we proceed ahead\n",
    "\n",
    "if f.mode == 'r':\n",
    "    print(\"File open in read mode\")"
   ]
  },
  {
   "cell_type": "code",
   "execution_count": 78,
   "metadata": {},
   "outputs": [],
   "source": [
    "#Use f.read to read file data and store it in variable content\n",
    "\n",
    "contents = f.read()"
   ]
  },
  {
   "cell_type": "code",
   "execution_count": 80,
   "metadata": {},
   "outputs": [
    {
     "name": "stdout",
     "output_type": "stream",
     "text": [
      "This is line 1\n",
      "This is line 2\n",
      "This is line 3\n",
      "This is line 4\n",
      "This is line 5\n",
      "This is line 6\n",
      "This is line 7\n",
      "This is line 8\n",
      "This is line 9\n",
      "This is line 10\n",
      "Appended line 1\n",
      "Appended line 2\n",
      "\n",
      "\n"
     ]
    }
   ],
   "source": [
    "print(contents)"
   ]
  },
  {
   "cell_type": "code",
   "execution_count": 81,
   "metadata": {},
   "outputs": [],
   "source": [
    "#File Modes in Python:\n",
    "\n",
    "#'r'\tThis is the default mode. It Opens file for reading.\n",
    "#'w'\tThis Mode Opens file for writing. \n",
    "       #If file does not exist, it creates a new file.\n",
    "       #If file exists it truncates the file.\n",
    "#'x'\tCreates a new file. If file already exists, the operation fails.\n",
    "#'a'\tOpen file in append mode. \n",
    "       #If file does not exist, it creates a new file.\n",
    "#'t'\tThis is the default mode. It opens in text mode.\n",
    "#'b'\tThis opens in binary mode.\n",
    "#'+'\tThis will open a file for reading and writing (updating)"
   ]
  },
  {
   "cell_type": "code",
   "execution_count": null,
   "metadata": {},
   "outputs": [],
   "source": []
  }
 ],
 "metadata": {
  "kernelspec": {
   "display_name": "Python 3",
   "language": "python",
   "name": "python3"
  },
  "language_info": {
   "codemirror_mode": {
    "name": "ipython",
    "version": 3
   },
   "file_extension": ".py",
   "mimetype": "text/x-python",
   "name": "python",
   "nbconvert_exporter": "python",
   "pygments_lexer": "ipython3",
   "version": "3.6.7"
  }
 },
 "nbformat": 4,
 "nbformat_minor": 2
}
