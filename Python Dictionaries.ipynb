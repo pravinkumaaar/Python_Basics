{
 "cells": [
  {
   "cell_type": "code",
   "execution_count": 49,
   "metadata": {},
   "outputs": [
    {
     "name": "stdout",
     "output_type": "stream",
     "text": [
      "{'Name': 'Jose Mourinho', 'Club': 'Manchester United', 'Squad Size': 32}\n"
     ]
    }
   ],
   "source": [
    "#*PYTHON DICTIONARY*:\n",
    "\n",
    "#creating a dictionary\n",
    "\n",
    "# key : value\n",
    "\n",
    "dict_1 = {\n",
    "    \"Name\" : \"Jose Mourinho\",\n",
    "    \"Club\" : \"Manchester United\",\n",
    "    \"Squad Size\" : 32\n",
    "}\n",
    "\n",
    "print(dict_1)"
   ]
  },
  {
   "cell_type": "code",
   "execution_count": 8,
   "metadata": {},
   "outputs": [
    {
     "name": "stdout",
     "output_type": "stream",
     "text": [
      "Manchester United\n"
     ]
    }
   ],
   "source": [
    "#accessing the values of a specific key\n",
    "\n",
    "x = dict_1[\"Club\"]\n",
    "print(x)"
   ]
  },
  {
   "cell_type": "code",
   "execution_count": 10,
   "metadata": {},
   "outputs": [
    {
     "name": "stdout",
     "output_type": "stream",
     "text": [
      "Jose Mourinho\n"
     ]
    }
   ],
   "source": [
    "#another way of dong the above (with get() function)\n",
    "\n",
    "x = dict_1.get(\"Name\")\n",
    "print(x)"
   ]
  },
  {
   "cell_type": "code",
   "execution_count": 43,
   "metadata": {},
   "outputs": [
    {
     "name": "stdout",
     "output_type": "stream",
     "text": [
      "{'Name': 'Jose Mourinho', 'Club': 'Manchester United', 'Squad Size': 40}\n"
     ]
    }
   ],
   "source": [
    "#re-defining the values of keys\n",
    "\n",
    "dict_1[\"Squad Size\"] = 40\n",
    "print(dict_1)\n"
   ]
  },
  {
   "cell_type": "code",
   "execution_count": 22,
   "metadata": {},
   "outputs": [
    {
     "name": "stdout",
     "output_type": "stream",
     "text": [
      "Name\n",
      "Club\n",
      "Squad Size\n"
     ]
    }
   ],
   "source": [
    "#returning the key names through for loop\n",
    "\n",
    "for i in dict_1:\n",
    "    print(i)"
   ]
  },
  {
   "cell_type": "code",
   "execution_count": 23,
   "metadata": {},
   "outputs": [
    {
     "name": "stdout",
     "output_type": "stream",
     "text": [
      "Jose Mourinho\n",
      "Manchester United\n",
      "40\n"
     ]
    }
   ],
   "source": [
    "#returning the values through for loop\n",
    "\n",
    "for i in dict_1:\n",
    "    print(dict_1[i])"
   ]
  },
  {
   "cell_type": "code",
   "execution_count": 24,
   "metadata": {},
   "outputs": [
    {
     "name": "stdout",
     "output_type": "stream",
     "text": [
      "Jose Mourinho\n",
      "Manchester United\n",
      "40\n"
     ]
    }
   ],
   "source": [
    "#another method for returning values using the values() function\n",
    "\n",
    "for i in dict_1.values():\n",
    "    print(i)"
   ]
  },
  {
   "cell_type": "code",
   "execution_count": 27,
   "metadata": {},
   "outputs": [
    {
     "name": "stdout",
     "output_type": "stream",
     "text": [
      "Name : Jose Mourinho\n",
      "Club : Manchester United\n",
      "Squad Size : 40\n"
     ]
    }
   ],
   "source": [
    "#Loop through both key names and values\n",
    "\n",
    "for i,j in dict_1.items():\n",
    "    print(i,\":\",j)"
   ]
  },
  {
   "cell_type": "code",
   "execution_count": 28,
   "metadata": {},
   "outputs": [
    {
     "name": "stdout",
     "output_type": "stream",
     "text": [
      "Yes, Club is one of the keys in the dict_1 dictionary\n"
     ]
    }
   ],
   "source": [
    "#Check if a given key belongs to a dictionary\n",
    "\n",
    "if \"Club\" in dict_1:\n",
    "    print(\"Yes, Club is one of the keys in the dict_1 dictionary\")"
   ]
  },
  {
   "cell_type": "code",
   "execution_count": 29,
   "metadata": {},
   "outputs": [
    {
     "name": "stdout",
     "output_type": "stream",
     "text": [
      "3\n"
     ]
    }
   ],
   "source": [
    "#length of the dictionary\n",
    "\n",
    "print(len(dict_1))"
   ]
  },
  {
   "cell_type": "code",
   "execution_count": 44,
   "metadata": {},
   "outputs": [
    {
     "name": "stdout",
     "output_type": "stream",
     "text": [
      "{'Name': 'Jose Mourinho', 'Club': 'Manchester United', 'Squad Size': 40, 'Stadium': 'Old Trafford'}\n"
     ]
    }
   ],
   "source": [
    "#Adding more new key names\n",
    "\n",
    "dict_1[\"Stadium\"] = \"Old Trafford\"\n",
    "print(dict_1)"
   ]
  },
  {
   "cell_type": "code",
   "execution_count": 45,
   "metadata": {},
   "outputs": [
    {
     "name": "stdout",
     "output_type": "stream",
     "text": [
      "{'Club': 'Manchester United', 'Squad Size': 40, 'Stadium': 'Old Trafford'}\n"
     ]
    }
   ],
   "source": [
    "#removing the keys with a specific key name\n",
    "\n",
    "dict_1.pop(\"Name\")\n",
    "print(dict_1)"
   ]
  },
  {
   "cell_type": "code",
   "execution_count": 46,
   "metadata": {},
   "outputs": [
    {
     "name": "stdout",
     "output_type": "stream",
     "text": [
      "{'Club': 'Manchester United', 'Squad Size': 40}\n"
     ]
    }
   ],
   "source": [
    "#removes the last added key\n",
    "\n",
    "dict_1.popitem()\n",
    "print(dict_1)"
   ]
  },
  {
   "cell_type": "code",
   "execution_count": 47,
   "metadata": {},
   "outputs": [
    {
     "name": "stdout",
     "output_type": "stream",
     "text": [
      "{'Club': 'Manchester United'}\n"
     ]
    }
   ],
   "source": [
    "#another method for deleting a key using its key name\n",
    "\n",
    "del dict_1[\"Squad Size\"]\n",
    "print(dict_1)"
   ]
  },
  {
   "cell_type": "code",
   "execution_count": 48,
   "metadata": {},
   "outputs": [
    {
     "ename": "NameError",
     "evalue": "name 'dict_1' is not defined",
     "output_type": "error",
     "traceback": [
      "\u001b[0;31m---------------------------------------------------------------------------\u001b[0m",
      "\u001b[0;31mNameError\u001b[0m                                 Traceback (most recent call last)",
      "\u001b[0;32m<ipython-input-48-06bd16095ce8>\u001b[0m in \u001b[0;36m<module>\u001b[0;34m\u001b[0m\n\u001b[1;32m      2\u001b[0m \u001b[0;34m\u001b[0m\u001b[0m\n\u001b[1;32m      3\u001b[0m \u001b[0;32mdel\u001b[0m \u001b[0mdict_1\u001b[0m\u001b[0;34m\u001b[0m\u001b[0;34m\u001b[0m\u001b[0m\n\u001b[0;32m----> 4\u001b[0;31m \u001b[0mprint\u001b[0m\u001b[0;34m(\u001b[0m\u001b[0mdict_1\u001b[0m\u001b[0;34m)\u001b[0m\u001b[0;34m\u001b[0m\u001b[0;34m\u001b[0m\u001b[0m\n\u001b[0m",
      "\u001b[0;31mNameError\u001b[0m: name 'dict_1' is not defined"
     ]
    }
   ],
   "source": [
    "#deleting the entire dictionary\n",
    "\n",
    "del dict_1\n",
    "print(dict_1)\n",
    "\n",
    "#error displayed because we just deleted, hence it wouldn't exist"
   ]
  },
  {
   "cell_type": "code",
   "execution_count": 50,
   "metadata": {},
   "outputs": [
    {
     "name": "stdout",
     "output_type": "stream",
     "text": [
      "{'Name': 'Jose Mourinho', 'Club': 'Manchester United', 'Squad Size': 32}\n"
     ]
    }
   ],
   "source": [
    "print(dict_1)"
   ]
  },
  {
   "cell_type": "code",
   "execution_count": 51,
   "metadata": {},
   "outputs": [
    {
     "name": "stdout",
     "output_type": "stream",
     "text": [
      "{}\n"
     ]
    }
   ],
   "source": [
    "#clears the dictionary\n",
    "\n",
    "dict_1.clear()\n",
    "print(dict_1)"
   ]
  },
  {
   "cell_type": "code",
   "execution_count": 57,
   "metadata": {},
   "outputs": [
    {
     "name": "stdout",
     "output_type": "stream",
     "text": [
      "{'Name': 'Jose Mourinho', 'Club': 'Manchester United', 'Squad_Size': 32}\n"
     ]
    }
   ],
   "source": [
    "#using the dict() constructor to create a dictionary\n",
    "\n",
    "dict_1 = dict(Name = \"Jose Mourinho\", Club = \"Manchester United\", Squad_Size = 32) #can't have spaces in the key names because they are not string literals, hence _ between Squad and Size\n",
    "#keywords are not string literals in this\n",
    "#uses '=' instead of ':'\n",
    "print(dict_1)"
   ]
  },
  {
   "cell_type": "code",
   "execution_count": null,
   "metadata": {},
   "outputs": [],
   "source": []
  }
 ],
 "metadata": {
  "kernelspec": {
   "display_name": "Python 3",
   "language": "python",
   "name": "python3"
  },
  "language_info": {
   "codemirror_mode": {
    "name": "ipython",
    "version": 3
   },
   "file_extension": ".py",
   "mimetype": "text/x-python",
   "name": "python",
   "nbconvert_exporter": "python",
   "pygments_lexer": "ipython3",
   "version": "3.6.7"
  }
 },
 "nbformat": 4,
 "nbformat_minor": 2
}
