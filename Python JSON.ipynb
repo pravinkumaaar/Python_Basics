{
 "cells": [
  {
   "cell_type": "code",
   "execution_count": 1,
   "metadata": {},
   "outputs": [],
   "source": [
    "#*Python JSON*:\n",
    "\n",
    "#JSON is written in JavaScript Object Notation\n",
    "#JSON is a synatx for storing and exchanging data\n",
    "\n",
    "#importing the json module\n",
    "\n",
    "import json"
   ]
  },
  {
   "cell_type": "code",
   "execution_count": 5,
   "metadata": {},
   "outputs": [
    {
     "name": "stdout",
     "output_type": "stream",
     "text": [
      "30\n"
     ]
    }
   ],
   "source": [
    "#Parsing JSON files to give python dictionaries\n",
    "#json.loads() \n",
    "\n",
    "#converting from json to python\n",
    "\n",
    "# some JSON:\n",
    "x =  '{ \"name\":\"John\", \"age\":30, \"city\":\"New York\"}'\n",
    "\n",
    "#parsing x\n",
    "y = json.loads(x)\n",
    "\n",
    "#the result is a python dictionary\n",
    "print(y[\"age\"])"
   ]
  },
  {
   "cell_type": "code",
   "execution_count": 4,
   "metadata": {},
   "outputs": [
    {
     "name": "stdout",
     "output_type": "stream",
     "text": [
      "{\"Name\": \"Sai Vishwanath\", \"Age\": 20, \"City\": \"Chennai\"}\n"
     ]
    }
   ],
   "source": [
    "#Converting a Python Object(Dictionary) to JSON string using json.dumps()\n",
    "\n",
    "# A Python Object(Dictionary)\n",
    "x = {\n",
    "    \n",
    "    \"Name\" : \"Sai Vishwanath\",\n",
    "    \"Age\" : 20,\n",
    "    \"City\" : \"Chennai\"\n",
    "}\n",
    "\n",
    "#convert into JSON\n",
    "y = json.dumps(x)\n",
    "\n",
    "print(y)"
   ]
  },
  {
   "cell_type": "code",
   "execution_count": 9,
   "metadata": {},
   "outputs": [
    {
     "name": "stdout",
     "output_type": "stream",
     "text": [
      "name\n",
      "age\n",
      "city\n"
     ]
    }
   ],
   "source": [
    "#for finding the key names of the dictionary y \n",
    "\n",
    "for i in y:\n",
    "    print(i)"
   ]
  },
  {
   "cell_type": "code",
   "execution_count": 8,
   "metadata": {},
   "outputs": [
    {
     "name": "stdout",
     "output_type": "stream",
     "text": [
      "John\n",
      "30\n",
      "New York\n"
     ]
    }
   ],
   "source": [
    "#for finding the vlaues of the key names in y\n",
    "\n",
    "for i in y:\n",
    "    print(y[i])"
   ]
  },
  {
   "cell_type": "code",
   "execution_count": 16,
   "metadata": {},
   "outputs": [
    {
     "name": "stdout",
     "output_type": "stream",
     "text": [
      "{'name': 'John', 'age': 30, 'city': 'New York', 'Area': {'Name': 'Mambalam', 'Postal Code': 600027}}\n",
      "{'Name': 'Mambalam', 'Postal Code': 600027}\n",
      "Mambalam\n",
      "600027\n"
     ]
    }
   ],
   "source": [
    "X =  '{ \"name\":\"John\", \"age\":30, \"city\":\"New York\", \"Area\" : {\"Name\" : \"Mambalam\", \"Postal Code\" : 600027}}'\n",
    "\n",
    "Y = json.loads(X)\n",
    "\n",
    "print(Y)\n",
    "\n",
    "print(Y[\"Area\"])\n",
    "\n",
    "print(Y[\"Area\"][\"Name\"])\n",
    "\n",
    "print(Y[\"Area\"][\"Postal Code\"])"
   ]
  },
  {
   "cell_type": "code",
   "execution_count": 1,
   "metadata": {},
   "outputs": [],
   "source": [
    "#You can convert Python objects of the following types, into JSON strings:\n",
    "\n",
    "#1) dict\n",
    "#2) list\n",
    "#3) tuple\n",
    "#4) string\n",
    "#5) int\n",
    "#6) float\n",
    "#7) True\n",
    "#8) False\n",
    "#9) None"
   ]
  },
  {
   "cell_type": "code",
   "execution_count": 2,
   "metadata": {},
   "outputs": [
    {
     "name": "stdout",
     "output_type": "stream",
     "text": [
      "{\"name\": \"John\", \"age\": 30}\n",
      "[\"apple\", \"bananas\"]\n",
      "[\"apple\", \"bananas\"]\n",
      "\"hello\"\n",
      "42\n",
      "31.76\n",
      "true\n",
      "false\n",
      "null\n"
     ]
    }
   ],
   "source": [
    "#converting different datatypes to json\n",
    "\n",
    "import json\n",
    "\n",
    "print(json.dumps({\"name\": \"John\", \"age\": 30}))\n",
    "print(json.dumps([\"apple\", \"bananas\"]))\n",
    "print(json.dumps((\"apple\", \"bananas\")))\n",
    "print(json.dumps(\"hello\"))\n",
    "print(json.dumps(42))\n",
    "print(json.dumps(31.76))\n",
    "print(json.dumps(True))\n",
    "print(json.dumps(False))\n",
    "print(json.dumps(None))"
   ]
  },
  {
   "cell_type": "code",
   "execution_count": 3,
   "metadata": {},
   "outputs": [],
   "source": [
    "#When you convert from Python to JSON, Python objects are converted into the JSON (JavaScript) equivalent:\n",
    "\n",
    "# Python \t JSON\n",
    "#1) dict \t Object\n",
    "#2) list \t Array\n",
    "#3) tuple \t Array\n",
    "#4) str \t String\n",
    "#5) int \t Number\n",
    "#6) float \t Number\n",
    "#7) True \t true\n",
    "#8) False \t false\n",
    "#9) None \t null"
   ]
  },
  {
   "cell_type": "code",
   "execution_count": 4,
   "metadata": {},
   "outputs": [
    {
     "name": "stdout",
     "output_type": "stream",
     "text": [
      "{\"name\": \"John\", \"age\": 30, \"married\": true, \"divorced\": false, \"children\": [\"Ann\", \"Billy\"], \"pets\": null, \"cars\": [{\"model\": \"BMW 230\", \"mpg\": 27.5}, {\"model\": \"Ford Edge\", \"mpg\": 24.1}]}\n"
     ]
    }
   ],
   "source": [
    "#Converting all datatypes to json\n",
    "\n",
    "import json\n",
    "\n",
    "x = {\n",
    "  \"name\": \"John\",\n",
    "  \"age\": 30,\n",
    "  \"married\": True,\n",
    "  \"divorced\": False,\n",
    "  \"children\": (\"Ann\",\"Billy\"),\n",
    "  \"pets\": None,\n",
    "  \"cars\": [\n",
    "    {\"model\": \"BMW 230\", \"mpg\": 27.5},\n",
    "    {\"model\": \"Ford Edge\", \"mpg\": 24.1}\n",
    "  ]\n",
    "}\n",
    "\n",
    "print(json.dumps(x))"
   ]
  },
  {
   "cell_type": "code",
   "execution_count": null,
   "metadata": {},
   "outputs": [],
   "source": []
  }
 ],
 "metadata": {
  "kernelspec": {
   "display_name": "Python 3",
   "language": "python",
   "name": "python3"
  },
  "language_info": {
   "codemirror_mode": {
    "name": "ipython",
    "version": 3
   },
   "file_extension": ".py",
   "mimetype": "text/x-python",
   "name": "python",
   "nbconvert_exporter": "python",
   "pygments_lexer": "ipython3",
   "version": "3.6.7"
  }
 },
 "nbformat": 4,
 "nbformat_minor": 2
}
